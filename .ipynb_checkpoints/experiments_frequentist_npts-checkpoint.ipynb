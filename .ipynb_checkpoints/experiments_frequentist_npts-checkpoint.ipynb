{
 "cells": [
  {
   "cell_type": "markdown",
   "metadata": {},
   "source": [
    "From the code for the following article [Sub-sampling for Efficient Non-Parametric Bandit Exploration](https://arxiv.org/abs/2010.14323)"
   ]
  },
  {
   "cell_type": "code",
   "execution_count": 1,
   "metadata": {},
   "outputs": [
    {
     "data": {
      "text/html": [
       "<style>.container { width:95% !important; } </style>"
      ],
      "text/plain": [
       "<IPython.core.display.HTML object>"
      ]
     },
     "metadata": {},
     "output_type": "display_data"
    }
   ],
   "source": [
    "from IPython.core.display import HTML\n",
    "display(HTML('<style>.container { width:95% !important; } </style>'))\n",
    "\n",
    "%load_ext autoreload\n",
    "%autoreload 2"
   ]
  },
  {
   "cell_type": "code",
   "execution_count": 2,
   "metadata": {},
   "outputs": [],
   "source": [
    "from MAB import *\n",
    "import numpy as np\n",
    "import pandas as pd\n",
    "import matplotlib.pyplot as plt\n",
    "import seaborn as sns"
   ]
  },
  {
   "cell_type": "markdown",
   "metadata": {},
   "source": [
    "### Parameters and aliases for all algorithms"
   ]
  },
  {
   "cell_type": "code",
   "execution_count": 3,
   "metadata": {},
   "outputs": [],
   "source": [
    "# Enter the parameters of each algorithms\n",
    "param = {'non_parametric_TS': {}}\n",
    "\n",
    "mapping = {'B': BetaBernoulliMAB, 'G': GaussianMAB, 'LG': LogGaussianMAB, 'Exp': ExponentialMAB, 'TG': TruncGaussianMAB}\n",
    "mapping_name = {'B': 'Bernoulli', 'G': 'Gaussian', 'LG': 'LogGaussian', 'Exp': 'Exponential', 'TG': 'Truncated Gaussian'}"
   ]
  },
  {
   "cell_type": "markdown",
   "metadata": {},
   "source": [
    "### Bounded arms"
   ]
  },
  {
   "cell_type": "code",
   "execution_count": 4,
   "metadata": {},
   "outputs": [],
   "source": [
    "bandit = 'B'  # 'B', 'G', 'LG', 'Exp', 'TG'\n",
    "p = [0.7, 0.5]  # parameters for the arms distribution\n",
    "T = 1000  # Horizon\n",
    "N = 25  # Number of MC runs\n",
    "step = 25  # If results are saved trajectories are stored for all rounds such that t%step=0"
   ]
  },
  {
   "cell_type": "code",
   "execution_count": null,
   "metadata": {
    "scrolled": true
   },
   "outputs": [
    {
     "name": "stderr",
     "output_type": "stream",
     "text": [
      "Computing 25 simulations:   0%|          | 0/25 [00:00<?, ?it/s]/home/sauxpa/anaconda3/lib/python3.7/site-packages/numpy/core/fromnumeric.py:87: VisibleDeprecationWarning: Creating an ndarray from ragged nested sequences (which is a list-or-tuple of lists-or-tuples-or ndarrays with different lengths or shapes) is deprecated. If you meant to do this, you must specify 'dtype=object' when creating the ndarray\n",
      "  return ufunc.reduce(obj, axis, dtype, out, **passkwargs)\n",
      "Computing 25 simulations:  28%|██▊       | 7/25 [00:02<00:06,  2.73it/s]"
     ]
    }
   ],
   "source": [
    "model = mapping[bandit](p)\n",
    "\n",
    "r_1, _ = model.MC_regret('non_parametric_TS', N, T, {'upper_bound': 1.0}, step)\n",
    "r_2, _ = model.MC_regret('non_parametric_TS', N, T, {'upper_bound': None}, step)\n",
    "\n",
    "all_r = [r_1, r_2]\n",
    "all_r.append(model.Cp * np.log(1 + np.arange(T)))\n",
    "\n",
    "res = pd.DataFrame(all_r).T\n",
    "res.columns = ['NP-TS', 'NP-TS (unknown bound)', 'lower bound']\n",
    "res['lower bound'].iloc[0] = 0"
   ]
  },
  {
   "cell_type": "code",
   "execution_count": null,
   "metadata": {},
   "outputs": [],
   "source": [
    "with sns.axes_style('darkgrid'):\n",
    "    fig, ax = plt.subplots(figsize=(11, 7), nrows=1, ncols=1)\n",
    "\n",
    "    res.plot(ax=ax)\n",
    "    \n",
    "    ax.legend(loc='lower right')\n",
    "    ax.set_title('Average cumulative regret over {} runs for {:s} bandit'.format(N, mapping_name[bandit]))\n",
    "\n",
    "    plt.tight_layout()\n",
    "    plt.show()"
   ]
  },
  {
   "cell_type": "markdown",
   "metadata": {},
   "source": [
    "### Unbounded arms (Gaussian)"
   ]
  },
  {
   "cell_type": "code",
   "execution_count": null,
   "metadata": {},
   "outputs": [],
   "source": [
    "bandit = 'G'  # 'B', 'G', 'LG', 'Exp', 'TG'\n",
    "p = [[0.1, 0.3], [0.2, 0.25]]  # parameters for the arms distribution\n",
    "T = 1000  # Horizon\n",
    "N = 25  # Number of MC runs\n",
    "step = 25  # If results are saved trajectories are stored for all rounds such that t%step=0"
   ]
  },
  {
   "cell_type": "code",
   "execution_count": null,
   "metadata": {},
   "outputs": [],
   "source": [
    "model = mapping[bandit](p)\n",
    "\n",
    "r_1, _ = model.MC_regret('non_parametric_TS', N, T, {'upper_bound': 1.0}, step)\n",
    "r_2, _ = model.MC_regret('non_parametric_TS', N, T, {'upper_bound': None}, step)\n",
    "\n",
    "all_r = [r_1, r_2]\n",
    "all_r.append(model.Cp * np.log(1 + np.arange(T)))\n",
    "\n",
    "res = pd.DataFrame(all_r).T\n",
    "res.columns = ['NP-TS', 'NP-TS (unknown bound)', 'lower bound']\n",
    "res['lower bound'].iloc[0] = 0"
   ]
  },
  {
   "cell_type": "code",
   "execution_count": null,
   "metadata": {},
   "outputs": [],
   "source": [
    "with sns.axes_style('darkgrid'):\n",
    "    fig, ax = plt.subplots(figsize=(11, 7), nrows=1, ncols=1)\n",
    "\n",
    "    res.plot(ax=ax)\n",
    "    \n",
    "    ax.legend(loc='lower right')\n",
    "    ax.set_title('Average cumulative regret over {} runs for {:s} bandit'.format(N, mapping_name[bandit]))\n",
    "\n",
    "    plt.tight_layout()\n",
    "    plt.show()"
   ]
  },
  {
   "cell_type": "markdown",
   "metadata": {},
   "source": [
    "### Unbounded arms (Exponential)"
   ]
  },
  {
   "cell_type": "code",
   "execution_count": null,
   "metadata": {},
   "outputs": [],
   "source": [
    "bandit = 'Exp'  # 'B', 'G', 'LG', 'Exp', 'TG'\n",
    "p = [1.0, 0.8]  # parameters for the arms distribution\n",
    "T = 1000  # Horizon\n",
    "N = 25  # Number of MC runs\n",
    "step = 25  # If results are saved trajectories are stored for all rounds such that t%step=0"
   ]
  },
  {
   "cell_type": "code",
   "execution_count": null,
   "metadata": {},
   "outputs": [],
   "source": [
    "model = mapping[bandit](p)\n",
    "\n",
    "r_1, _ = model.MC_regret('non_parametric_TS', N, T, {'upper_bound': 1.0}, step)\n",
    "r_2, _ = model.MC_regret('non_parametric_TS', N, T, {'upper_bound': None}, step)\n",
    "\n",
    "all_r = [r_1, r_2]\n",
    "all_r.append(model.Cp * np.log(1 + np.arange(T)))\n",
    "\n",
    "res = pd.DataFrame(all_r).T\n",
    "res.columns = ['NP-TS', 'NP-TS (unknown bound)', 'lower bound']\n",
    "res['lower bound'].iloc[0] = 0"
   ]
  },
  {
   "cell_type": "code",
   "execution_count": null,
   "metadata": {},
   "outputs": [],
   "source": []
  },
  {
   "cell_type": "code",
   "execution_count": null,
   "metadata": {},
   "outputs": [],
   "source": [
    "with sns.axes_style('darkgrid'):\n",
    "    fig, ax = plt.subplots(figsize=(11, 7), nrows=1, ncols=1)\n",
    "\n",
    "    res.plot(ax=ax)\n",
    "    \n",
    "    ax.legend(loc='lower right')\n",
    "    ax.set_title('Average cumulative regret over {} runs for {:s} bandit'.format(N, mapping_name[bandit]))\n",
    "\n",
    "    plt.tight_layout()\n",
    "    plt.show()"
   ]
  },
  {
   "cell_type": "markdown",
   "metadata": {},
   "source": [
    "### Unbounded arms (Lognormal --> heavy tail)"
   ]
  },
  {
   "cell_type": "code",
   "execution_count": null,
   "metadata": {},
   "outputs": [],
   "source": [
    "bandit = 'LG'  # 'B', 'G', 'LG', 'Exp', 'TG'\n",
    "p = [[0.1, 0.3], [0.2, 0.25]]  # parameters for the arms distribution\n",
    "T = 1000  # Horizon\n",
    "N = 25  # Number of MC runs\n",
    "step = 25  # If results are saved trajectories are stored for all rounds such that t%step=0"
   ]
  },
  {
   "cell_type": "code",
   "execution_count": null,
   "metadata": {},
   "outputs": [],
   "source": [
    "model = mapping[bandit](p)\n",
    "\n",
    "r_1, _ = model.MC_regret('non_parametric_TS', N, T, {'upper_bound': 1.0}, step)\n",
    "r_2, _ = model.MC_regret('non_parametric_TS', N, T, {'upper_bound': None}, step)\n",
    "\n",
    "all_r = [r_1, r_2]\n",
    "all_r.append(model.Cp * np.log(1 + np.arange(T)))\n",
    "\n",
    "res = pd.DataFrame(all_r).T\n",
    "res.columns = ['NP-TS', 'NP-TS (unknown bound)', 'lower bound']\n",
    "res['lower bound'].iloc[0] = 0"
   ]
  },
  {
   "cell_type": "code",
   "execution_count": null,
   "metadata": {},
   "outputs": [],
   "source": [
    "with sns.axes_style('darkgrid'):\n",
    "    fig, ax = plt.subplots(figsize=(11, 7), nrows=1, ncols=1)\n",
    "\n",
    "    res.plot(ax=ax)\n",
    "    \n",
    "    ax.legend(loc='lower right')\n",
    "    ax.set_title('Average cumulative regret over {} runs for {:s} bandit'.format(N, mapping_name[bandit]))\n",
    "\n",
    "    plt.tight_layout()\n",
    "    plt.show()"
   ]
  },
  {
   "cell_type": "code",
   "execution_count": null,
   "metadata": {},
   "outputs": [],
   "source": []
  }
 ],
 "metadata": {
  "kernelspec": {
   "display_name": "Python 3",
   "language": "python",
   "name": "python3"
  },
  "language_info": {
   "codemirror_mode": {
    "name": "ipython",
    "version": 3
   },
   "file_extension": ".py",
   "mimetype": "text/x-python",
   "name": "python",
   "nbconvert_exporter": "python",
   "pygments_lexer": "ipython3",
   "version": "3.7.4"
  }
 },
 "nbformat": 4,
 "nbformat_minor": 2
}
